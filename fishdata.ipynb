{
 "cells": [
  {
   "cell_type": "markdown",
   "metadata": {},
   "source": [
    "importing data using pandas"
   ]
  },
  {
   "cell_type": "code",
   "execution_count": 3,
   "metadata": {},
   "outputs": [],
   "source": [
    "import pandas as pd\n",
    "import numpy as np"
   ]
  },
  {
   "cell_type": "code",
   "execution_count": 4,
   "metadata": {},
   "outputs": [],
   "source": [
    "fish_data = pd.read_csv(r'C:\\Users\\BSK\\Desktop\\python\\Fish.csv')"
   ]
  },
  {
   "cell_type": "markdown",
   "metadata": {},
   "source": [
    "Data overview"
   ]
  },
  {
   "cell_type": "code",
   "execution_count": 3,
   "metadata": {},
   "outputs": [
    {
     "data": {
      "text/html": [
       "<div>\n",
       "<style scoped>\n",
       "    .dataframe tbody tr th:only-of-type {\n",
       "        vertical-align: middle;\n",
       "    }\n",
       "\n",
       "    .dataframe tbody tr th {\n",
       "        vertical-align: top;\n",
       "    }\n",
       "\n",
       "    .dataframe thead th {\n",
       "        text-align: right;\n",
       "    }\n",
       "</style>\n",
       "<table border=\"1\" class=\"dataframe\">\n",
       "  <thead>\n",
       "    <tr style=\"text-align: right;\">\n",
       "      <th></th>\n",
       "      <th>Species</th>\n",
       "      <th>Weight</th>\n",
       "      <th>Length1</th>\n",
       "      <th>Length2</th>\n",
       "      <th>Length3</th>\n",
       "      <th>Height</th>\n",
       "      <th>Width</th>\n",
       "    </tr>\n",
       "  </thead>\n",
       "  <tbody>\n",
       "    <tr>\n",
       "      <th>0</th>\n",
       "      <td>Bream</td>\n",
       "      <td>242.0</td>\n",
       "      <td>23.2</td>\n",
       "      <td>25.4</td>\n",
       "      <td>30.0</td>\n",
       "      <td>11.5200</td>\n",
       "      <td>4.0200</td>\n",
       "    </tr>\n",
       "    <tr>\n",
       "      <th>1</th>\n",
       "      <td>Bream</td>\n",
       "      <td>290.0</td>\n",
       "      <td>24.0</td>\n",
       "      <td>26.3</td>\n",
       "      <td>31.2</td>\n",
       "      <td>12.4800</td>\n",
       "      <td>4.3056</td>\n",
       "    </tr>\n",
       "    <tr>\n",
       "      <th>2</th>\n",
       "      <td>Bream</td>\n",
       "      <td>340.0</td>\n",
       "      <td>23.9</td>\n",
       "      <td>26.5</td>\n",
       "      <td>31.1</td>\n",
       "      <td>12.3778</td>\n",
       "      <td>4.6961</td>\n",
       "    </tr>\n",
       "    <tr>\n",
       "      <th>3</th>\n",
       "      <td>Bream</td>\n",
       "      <td>363.0</td>\n",
       "      <td>26.3</td>\n",
       "      <td>29.0</td>\n",
       "      <td>33.5</td>\n",
       "      <td>12.7300</td>\n",
       "      <td>4.4555</td>\n",
       "    </tr>\n",
       "    <tr>\n",
       "      <th>4</th>\n",
       "      <td>Bream</td>\n",
       "      <td>430.0</td>\n",
       "      <td>26.5</td>\n",
       "      <td>29.0</td>\n",
       "      <td>34.0</td>\n",
       "      <td>12.4440</td>\n",
       "      <td>5.1340</td>\n",
       "    </tr>\n",
       "  </tbody>\n",
       "</table>\n",
       "</div>"
      ],
      "text/plain": [
       "  Species  Weight  Length1  Length2  Length3   Height   Width\n",
       "0   Bream   242.0     23.2     25.4     30.0  11.5200  4.0200\n",
       "1   Bream   290.0     24.0     26.3     31.2  12.4800  4.3056\n",
       "2   Bream   340.0     23.9     26.5     31.1  12.3778  4.6961\n",
       "3   Bream   363.0     26.3     29.0     33.5  12.7300  4.4555\n",
       "4   Bream   430.0     26.5     29.0     34.0  12.4440  5.1340"
      ]
     },
     "execution_count": 3,
     "metadata": {},
     "output_type": "execute_result"
    }
   ],
   "source": [
    "fish_data.head()"
   ]
  },
  {
   "cell_type": "markdown",
   "metadata": {},
   "source": [
    "checking for null values"
   ]
  },
  {
   "cell_type": "code",
   "execution_count": 4,
   "metadata": {},
   "outputs": [
    {
     "data": {
      "text/plain": [
       "Species    0\n",
       "Weight     0\n",
       "Length1    0\n",
       "Length2    0\n",
       "Length3    0\n",
       "Height     0\n",
       "Width      0\n",
       "dtype: int64"
      ]
     },
     "execution_count": 4,
     "metadata": {},
     "output_type": "execute_result"
    }
   ],
   "source": [
    "fish_data.isnull().sum()"
   ]
  },
  {
   "cell_type": "markdown",
   "metadata": {},
   "source": [
    "classifying the target and other features"
   ]
  },
  {
   "cell_type": "code",
   "execution_count": 5,
   "metadata": {},
   "outputs": [
    {
     "data": {
      "text/plain": [
       "array(['Bream', 'Roach', 'Whitefish', 'Parkki', 'Perch', 'Pike', 'Smelt'],\n",
       "      dtype=object)"
      ]
     },
     "execution_count": 5,
     "metadata": {},
     "output_type": "execute_result"
    }
   ],
   "source": [
    "fish_data.Species.unique()"
   ]
  },
  {
   "cell_type": "markdown",
   "metadata": {},
   "source": [
    "visualizing the data"
   ]
  },
  {
   "cell_type": "code",
   "execution_count": 6,
   "metadata": {},
   "outputs": [],
   "source": [
    "import matplotlib.pyplot as plt\n",
    "import seaborn as sns"
   ]
  },
  {
   "cell_type": "code",
   "execution_count": 41,
   "metadata": {},
   "outputs": [
    {
     "data": {
      "text/plain": [
       "Text(0, 0.5, 'Weight')"
      ]
     },
     "execution_count": 41,
     "metadata": {},
     "output_type": "execute_result"
    },
    {
     "data": {
      "image/png": "[encoded data removed]",
      "text/plain": [
       "<Figure size 1224x216 with 3 Axes>"
      ]
     },
     "metadata": {
      "needs_background": "light"
     },
     "output_type": "display_data"
    }
   ],
   "source": [
    "fig, axes = plt.subplots(nrows=1, ncols=3,figsize=(17,3))\n",
    "axes[0].scatter('Species','Width',data=fish_data)\n",
    "axes[1].scatter('Species','Height',data=fish_data)\n",
    "axes[2].scatter('Species','Weight',data=fish_data)\n",
    "axes[0].set_xlabel('Species')\n",
    "axes[0].set_ylabel('Width')\n",
    "axes[1].set_xlabel('Species')\n",
    "axes[1].set_ylabel('Height')\n",
    "axes[2].set_xlabel('Species')\n",
    "axes[2].set_ylabel('Weight')\n"
   ]
  },
  {
   "cell_type": "code",
   "execution_count": 8,
   "metadata": {},
   "outputs": [],
   "source": [
    "label = ['Bream', 'Roach', 'Whitefish', 'Parkki', 'Perch', 'Pike', 'Smelt']"
   ]
  },
  {
   "cell_type": "markdown",
   "metadata": {},
   "source": [
    "finding min and max values of data based on species"
   ]
  },
  {
   "cell_type": "code",
   "execution_count": 38,
   "metadata": {},
   "outputs": [
    {
     "name": "stdout",
     "output_type": "stream",
     "text": [
      "Species    Bream\n",
      "Weight       242\n",
      "Length1     23.2\n",
      "Length2     25.4\n",
      "Length3       30\n",
      "Height     11.52\n",
      "Width       4.02\n",
      "dtype: object\n",
      "Species     Roach\n",
      "Weight          0\n",
      "Length1      12.9\n",
      "Length2      14.1\n",
      "Length3      16.2\n",
      "Height     4.1472\n",
      "Width       2.268\n",
      "dtype: object\n",
      "Species    Whitefish\n",
      "Weight           270\n",
      "Length1         23.6\n",
      "Length2           26\n",
      "Length3         28.7\n",
      "Height        8.1454\n",
      "Width         4.2476\n",
      "dtype: object\n",
      "Species    Parkki\n",
      "Weight         55\n",
      "Length1      13.5\n",
      "Length2      14.7\n",
      "Length3      16.5\n",
      "Height     6.5772\n",
      "Width      2.3142\n",
      "dtype: object\n",
      "Species    Perch\n",
      "Weight       5.9\n",
      "Length1      7.5\n",
      "Length2      8.4\n",
      "Length3      8.8\n",
      "Height     2.112\n",
      "Width      1.408\n",
      "dtype: object\n",
      "Species      Pike\n",
      "Weight        200\n",
      "Length1        30\n",
      "Length2      32.3\n",
      "Length3      34.8\n",
      "Height      5.568\n",
      "Width      3.3756\n",
      "dtype: object\n",
      "Species     Smelt\n",
      "Weight        6.7\n",
      "Length1       9.3\n",
      "Length2       9.8\n",
      "Length3      10.8\n",
      "Height     1.7284\n",
      "Width      1.0476\n",
      "dtype: object\n"
     ]
    }
   ],
   "source": [
    "for n in label:\n",
    "    print(fish_data[fish_data['Species']== n].min())"
   ]
  },
  {
   "cell_type": "code",
   "execution_count": 37,
   "metadata": {},
   "outputs": [
    {
     "name": "stdout",
     "output_type": "stream",
     "text": [
      "Species     Bream\n",
      "Weight       1000\n",
      "Length1        38\n",
      "Length2        41\n",
      "Length3      46.5\n",
      "Height     18.957\n",
      "Width      6.7497\n",
      "dtype: object\n",
      "Species    Roach\n",
      "Weight       390\n",
      "Length1     29.5\n",
      "Length2     31.7\n",
      "Length3       35\n",
      "Height     9.485\n",
      "Width      5.355\n",
      "dtype: object\n",
      "Species    Whitefish\n",
      "Weight          1000\n",
      "Length1         37.3\n",
      "Length2           40\n",
      "Length3         43.5\n",
      "Height        12.354\n",
      "Width         6.5736\n",
      "dtype: object\n",
      "Species    Parkki\n",
      "Weight        300\n",
      "Length1        24\n",
      "Length2        26\n",
      "Length3        29\n",
      "Height     11.368\n",
      "Width       4.234\n",
      "dtype: object\n",
      "Species      Perch\n",
      "Weight        1100\n",
      "Length1       41.1\n",
      "Length2         44\n",
      "Length3       46.6\n",
      "Height     12.8002\n",
      "Width        8.142\n",
      "dtype: object\n",
      "Species      Pike\n",
      "Weight       1650\n",
      "Length1        59\n",
      "Length2      63.4\n",
      "Length3        68\n",
      "Height     10.812\n",
      "Width        7.48\n",
      "dtype: object\n",
      "Species     Smelt\n",
      "Weight       19.9\n",
      "Length1      13.8\n",
      "Length2        15\n",
      "Length3      16.2\n",
      "Height     2.9322\n",
      "Width      2.0672\n",
      "dtype: object\n"
     ]
    }
   ],
   "source": [
    "for n in label:\n",
    "    print(fish_data[fish_data['Species']== n].max())"
   ]
  },
  {
   "cell_type": "code",
   "execution_count": 29,
   "metadata": {},
   "outputs": [],
   "source": [
    "grouped_data = fish_data.groupby('Species')"
   ]
  },
  {
   "cell_type": "code",
   "execution_count": 57,
   "metadata": {},
   "outputs": [
    {
     "data": {
      "text/plain": [
       "Text(0, 0.5, 'Length3')"
      ]
     },
     "execution_count": 57,
     "metadata": {},
     "output_type": "execute_result"
    },
    {
     "data": {
      "image/png": "[encoded data removed]",
      "text/plain": [
       "<Figure size 1224x216 with 3 Axes>"
      ]
     },
     "metadata": {
      "needs_background": "light"
     },
     "output_type": "display_data"
    }
   ],
   "source": [
    "fig, axes = plt.subplots(nrows=1, ncols=3,figsize=(17,3))\n",
    "axes[0].scatter('Species','Length1',data=fish_data)\n",
    "axes[1].scatter('Species','Length2',data=fish_data)\n",
    "axes[2].scatter('Species','Length3',data=fish_data)\n",
    "axes[0].set_xlabel('Species')\n",
    "axes[0].set_ylabel('Length1')\n",
    "axes[1].set_xlabel('Species')\n",
    "axes[1].set_ylabel('Length2')\n",
    "axes[2].set_xlabel('Species')\n",
    "axes[2].set_ylabel('Length3')\n"
   ]
  },
  {
   "cell_type": "code",
   "execution_count": 67,
   "metadata": {},
   "outputs": [
    {
     "data": {
      "text/html": [
       "<div>\n",
       "<style scoped>\n",
       "    .dataframe tbody tr th:only-of-type {\n",
       "        vertical-align: middle;\n",
       "    }\n",
       "\n",
       "    .dataframe tbody tr th {\n",
       "        vertical-align: top;\n",
       "    }\n",
       "\n",
       "    .dataframe thead th {\n",
       "        text-align: right;\n",
       "    }\n",
       "</style>\n",
       "<table border=\"1\" class=\"dataframe\">\n",
       "  <thead>\n",
       "    <tr style=\"text-align: right;\">\n",
       "      <th></th>\n",
       "      <th>Weight</th>\n",
       "      <th>Length1</th>\n",
       "      <th>Length2</th>\n",
       "      <th>Length3</th>\n",
       "      <th>Height</th>\n",
       "      <th>Width</th>\n",
       "    </tr>\n",
       "    <tr>\n",
       "      <th>Species</th>\n",
       "      <th></th>\n",
       "      <th></th>\n",
       "      <th></th>\n",
       "      <th></th>\n",
       "      <th></th>\n",
       "      <th></th>\n",
       "    </tr>\n",
       "  </thead>\n",
       "  <tbody>\n",
       "    <tr>\n",
       "      <th>Bream</th>\n",
       "      <td>1000.0</td>\n",
       "      <td>38.0</td>\n",
       "      <td>41.0</td>\n",
       "      <td>46.5</td>\n",
       "      <td>18.9570</td>\n",
       "      <td>6.7497</td>\n",
       "    </tr>\n",
       "    <tr>\n",
       "      <th>Parkki</th>\n",
       "      <td>300.0</td>\n",
       "      <td>24.0</td>\n",
       "      <td>26.0</td>\n",
       "      <td>29.0</td>\n",
       "      <td>11.3680</td>\n",
       "      <td>4.2340</td>\n",
       "    </tr>\n",
       "    <tr>\n",
       "      <th>Perch</th>\n",
       "      <td>1100.0</td>\n",
       "      <td>41.1</td>\n",
       "      <td>44.0</td>\n",
       "      <td>46.6</td>\n",
       "      <td>12.8002</td>\n",
       "      <td>8.1420</td>\n",
       "    </tr>\n",
       "    <tr>\n",
       "      <th>Pike</th>\n",
       "      <td>1650.0</td>\n",
       "      <td>59.0</td>\n",
       "      <td>63.4</td>\n",
       "      <td>68.0</td>\n",
       "      <td>10.8120</td>\n",
       "      <td>7.4800</td>\n",
       "    </tr>\n",
       "    <tr>\n",
       "      <th>Roach</th>\n",
       "      <td>390.0</td>\n",
       "      <td>29.5</td>\n",
       "      <td>31.7</td>\n",
       "      <td>35.0</td>\n",
       "      <td>9.4850</td>\n",
       "      <td>5.3550</td>\n",
       "    </tr>\n",
       "    <tr>\n",
       "      <th>Smelt</th>\n",
       "      <td>19.9</td>\n",
       "      <td>13.8</td>\n",
       "      <td>15.0</td>\n",
       "      <td>16.2</td>\n",
       "      <td>2.9322</td>\n",
       "      <td>2.0672</td>\n",
       "    </tr>\n",
       "    <tr>\n",
       "      <th>Whitefish</th>\n",
       "      <td>1000.0</td>\n",
       "      <td>37.3</td>\n",
       "      <td>40.0</td>\n",
       "      <td>43.5</td>\n",
       "      <td>12.3540</td>\n",
       "      <td>6.5736</td>\n",
       "    </tr>\n",
       "  </tbody>\n",
       "</table>\n",
       "</div>"
      ],
      "text/plain": [
       "           Weight  Length1  Length2  Length3   Height   Width\n",
       "Species                                                      \n",
       "Bream      1000.0     38.0     41.0     46.5  18.9570  6.7497\n",
       "Parkki      300.0     24.0     26.0     29.0  11.3680  4.2340\n",
       "Perch      1100.0     41.1     44.0     46.6  12.8002  8.1420\n",
       "Pike       1650.0     59.0     63.4     68.0  10.8120  7.4800\n",
       "Roach       390.0     29.5     31.7     35.0   9.4850  5.3550\n",
       "Smelt        19.9     13.8     15.0     16.2   2.9322  2.0672\n",
       "Whitefish  1000.0     37.3     40.0     43.5  12.3540  6.5736"
      ]
     },
     "execution_count": 67,
     "metadata": {},
     "output_type": "execute_result"
    }
   ],
   "source": [
    "fish_data.groupby(fish_data['Species']).max()"
   ]
  },
  {
   "cell_type": "markdown",
   "metadata": {},
   "source": [
    "removing the outlier (the below method is not recommended for all outliers based on data the outlier should be handled )"
   ]
  },
  {
   "cell_type": "code",
   "execution_count": 10,
   "metadata": {},
   "outputs": [],
   "source": [
    "fish_data.drop(fish_data[fish_data['Species']=='Whitefish']['Width'].idxmax(),inplace=True)"
   ]
  },
  {
   "cell_type": "code",
   "execution_count": 60,
   "metadata": {},
   "outputs": [],
   "source": [
    "columns =['Species', 'Weight', 'Length1', 'Length2', 'Length3', 'Height',\n",
    "       'Width']"
   ]
  },
  {
   "cell_type": "code",
   "execution_count": 15,
   "metadata": {},
   "outputs": [],
   "source": [
    "x = fish_data.drop('Species',axis=1)\n",
    "y = fish_data['Species']"
   ]
  },
  {
   "cell_type": "markdown",
   "metadata": {},
   "source": [
    "splitting the data  "
   ]
  },
  {
   "cell_type": "code",
   "execution_count": 13,
   "metadata": {},
   "outputs": [],
   "source": [
    "from sklearn.model_selection import train_test_split"
   ]
  },
  {
   "cell_type": "code",
   "execution_count": 16,
   "metadata": {},
   "outputs": [],
   "source": [
    "X_train, X_test, y_train, y_test = train_test_split(x, y, test_size=0.33, random_state=42)\n"
   ]
  },
  {
   "cell_type": "markdown",
   "metadata": {},
   "source": [
    "using logistic regression"
   ]
  },
  {
   "cell_type": "code",
   "execution_count": 17,
   "metadata": {},
   "outputs": [
    {
     "name": "stderr",
     "output_type": "stream",
     "text": [
      "C:\\Users\\BSK\\anaconda3\\lib\\site-packages\\sklearn\\linear_model\\_logistic.py:940: ConvergenceWarning: lbfgs failed to converge (status=1):\n",
      "STOP: TOTAL NO. of ITERATIONS REACHED LIMIT.\n",
      "\n",
      "Increase the number of iterations (max_iter) or scale the data as shown in:\n",
      "    https://scikit-learn.org/stable/modules/preprocessing.html\n",
      "Please also refer to the documentation for alternative solver options:\n",
      "    https://scikit-learn.org/stable/modules/linear_model.html#logistic-regression\n",
      "  extra_warning_msg=_LOGISTIC_SOLVER_CONVERGENCE_MSG)\n"
     ]
    },
    {
     "data": {
      "text/plain": [
       "LogisticRegression(C=1.0, class_weight=None, dual=False, fit_intercept=True,\n",
       "                   intercept_scaling=1, l1_ratio=None, max_iter=100,\n",
       "                   multi_class='auto', n_jobs=None, penalty='l2',\n",
       "                   random_state=None, solver='lbfgs', tol=0.0001, verbose=0,\n",
       "                   warm_start=False)"
      ]
     },
     "execution_count": 17,
     "metadata": {},
     "output_type": "execute_result"
    }
   ],
   "source": [
    "from sklearn.linear_model import LogisticRegression\n",
    "\n",
    "logmodel = LogisticRegression()\n",
    "logmodel.fit(X_train,y_train)"
   ]
  },
  {
   "cell_type": "markdown",
   "metadata": {},
   "source": [
    "predictions of y_test"
   ]
  },
  {
   "cell_type": "code",
   "execution_count": 18,
   "metadata": {},
   "outputs": [],
   "source": [
    "logpredictions = logmodel.predict(X_test)"
   ]
  },
  {
   "cell_type": "markdown",
   "metadata": {},
   "source": [
    "classification report"
   ]
  },
  {
   "cell_type": "code",
   "execution_count": 19,
   "metadata": {},
   "outputs": [],
   "source": [
    "from sklearn.metrics import classification_report"
   ]
  },
  {
   "cell_type": "code",
   "execution_count": 20,
   "metadata": {},
   "outputs": [
    {
     "name": "stdout",
     "output_type": "stream",
     "text": [
      "              precision    recall  f1-score   support\n",
      "\n",
      "       Bream       0.88      1.00      0.93        14\n",
      "      Parkki       0.00      0.00      0.00         3\n",
      "       Perch       0.63      0.94      0.76        18\n",
      "        Pike       1.00      0.20      0.33         5\n",
      "       Roach       0.33      0.25      0.29         4\n",
      "       Smelt       1.00      1.00      1.00         6\n",
      "   Whitefish       0.00      0.00      0.00         3\n",
      "\n",
      "    accuracy                           0.74        53\n",
      "   macro avg       0.55      0.48      0.47        53\n",
      "weighted avg       0.68      0.74      0.67        53\n",
      "\n"
     ]
    },
    {
     "name": "stderr",
     "output_type": "stream",
     "text": [
      "C:\\Users\\BSK\\anaconda3\\lib\\site-packages\\sklearn\\metrics\\_classification.py:1272: UndefinedMetricWarning: Precision and F-score are ill-defined and being set to 0.0 in labels with no predicted samples. Use `zero_division` parameter to control this behavior.\n",
      "  _warn_prf(average, modifier, msg_start, len(result))\n"
     ]
    }
   ],
   "source": [
    "print(classification_report(y_test,logpredictions))"
   ]
  },
  {
   "cell_type": "markdown",
   "metadata": {},
   "source": [
    "accuracy with logistic regression is 74"
   ]
  },
  {
   "cell_type": "markdown",
   "metadata": {},
   "source": [
    "tuning of logistic regression\n",
    "  "
   ]
  },
  {
   "cell_type": "markdown",
   "metadata": {},
   "source": [
    "what are the ways to tune the model:\n",
    "       "
   ]
  },
  {
   "cell_type": "markdown",
   "metadata": {},
   "source": [
    "        1 -> based on the target feature like classification of 2 or more type\n",
    "       "
   ]
  },
  {
   "cell_type": "markdown",
   "metadata": {},
   "source": [
    "                if it is more than two predictions try to implement one vs rest method"
   ]
  },
  {
   "cell_type": "markdown",
   "metadata": {},
   "source": [
    "      2 -> by changing other parameters manually or by using gridsearch,randomizedsearchcv"
   ]
  },
  {
   "cell_type": "markdown",
   "metadata": {},
   "source": [
    "logistic regression using ovr(one vs rest method)"
   ]
  },
  {
   "cell_type": "code",
   "execution_count": 17,
   "metadata": {},
   "outputs": [
    {
     "name": "stderr",
     "output_type": "stream",
     "text": [
      "C:\\Users\\BSK\\anaconda3\\lib\\site-packages\\sklearn\\linear_model\\_logistic.py:940: ConvergenceWarning: lbfgs failed to converge (status=1):\n",
      "STOP: TOTAL NO. of ITERATIONS REACHED LIMIT.\n",
      "\n",
      "Increase the number of iterations (max_iter) or scale the data as shown in:\n",
      "    https://scikit-learn.org/stable/modules/preprocessing.html\n",
      "Please also refer to the documentation for alternative solver options:\n",
      "    https://scikit-learn.org/stable/modules/linear_model.html#logistic-regression\n",
      "  extra_warning_msg=_LOGISTIC_SOLVER_CONVERGENCE_MSG)\n",
      "C:\\Users\\BSK\\anaconda3\\lib\\site-packages\\sklearn\\linear_model\\_logistic.py:940: ConvergenceWarning: lbfgs failed to converge (status=1):\n",
      "STOP: TOTAL NO. of ITERATIONS REACHED LIMIT.\n",
      "\n",
      "Increase the number of iterations (max_iter) or scale the data as shown in:\n",
      "    https://scikit-learn.org/stable/modules/preprocessing.html\n",
      "Please also refer to the documentation for alternative solver options:\n",
      "    https://scikit-learn.org/stable/modules/linear_model.html#logistic-regression\n",
      "  extra_warning_msg=_LOGISTIC_SOLVER_CONVERGENCE_MSG)\n",
      "C:\\Users\\BSK\\anaconda3\\lib\\site-packages\\sklearn\\linear_model\\_logistic.py:940: ConvergenceWarning: lbfgs failed to converge (status=1):\n",
      "STOP: TOTAL NO. of ITERATIONS REACHED LIMIT.\n",
      "\n",
      "Increase the number of iterations (max_iter) or scale the data as shown in:\n",
      "    https://scikit-learn.org/stable/modules/preprocessing.html\n",
      "Please also refer to the documentation for alternative solver options:\n",
      "    https://scikit-learn.org/stable/modules/linear_model.html#logistic-regression\n",
      "  extra_warning_msg=_LOGISTIC_SOLVER_CONVERGENCE_MSG)\n",
      "C:\\Users\\BSK\\anaconda3\\lib\\site-packages\\sklearn\\linear_model\\_logistic.py:940: ConvergenceWarning: lbfgs failed to converge (status=1):\n",
      "STOP: TOTAL NO. of ITERATIONS REACHED LIMIT.\n",
      "\n",
      "Increase the number of iterations (max_iter) or scale the data as shown in:\n",
      "    https://scikit-learn.org/stable/modules/preprocessing.html\n",
      "Please also refer to the documentation for alternative solver options:\n",
      "    https://scikit-learn.org/stable/modules/linear_model.html#logistic-regression\n",
      "  extra_warning_msg=_LOGISTIC_SOLVER_CONVERGENCE_MSG)\n",
      "C:\\Users\\BSK\\anaconda3\\lib\\site-packages\\sklearn\\linear_model\\_logistic.py:940: ConvergenceWarning: lbfgs failed to converge (status=1):\n",
      "STOP: TOTAL NO. of ITERATIONS REACHED LIMIT.\n",
      "\n",
      "Increase the number of iterations (max_iter) or scale the data as shown in:\n",
      "    https://scikit-learn.org/stable/modules/preprocessing.html\n",
      "Please also refer to the documentation for alternative solver options:\n",
      "    https://scikit-learn.org/stable/modules/linear_model.html#logistic-regression\n",
      "  extra_warning_msg=_LOGISTIC_SOLVER_CONVERGENCE_MSG)\n"
     ]
    },
    {
     "data": {
      "text/plain": [
       "LogisticRegression(C=1.0, class_weight=None, dual=False, fit_intercept=True,\n",
       "                   intercept_scaling=1, l1_ratio=None, max_iter=100,\n",
       "                   multi_class='ovr', n_jobs=None, penalty='l2',\n",
       "                   random_state=None, solver='lbfgs', tol=0.0001, verbose=0,\n",
       "                   warm_start=False)"
      ]
     },
     "execution_count": 17,
     "metadata": {},
     "output_type": "execute_result"
    }
   ],
   "source": [
    "from sklearn.linear_model import LogisticRegression\n",
    "\n",
    "logmodel = LogisticRegression(multi_class='ovr')\n",
    "logmodel.fit(X_train,y_train)"
   ]
  },
  {
   "cell_type": "code",
   "execution_count": 18,
   "metadata": {},
   "outputs": [],
   "source": [
    "logpredictions = logmodel.predict(X_test)"
   ]
  },
  {
   "cell_type": "code",
   "execution_count": 19,
   "metadata": {},
   "outputs": [],
   "source": [
    "from sklearn.metrics import classification_report"
   ]
  },
  {
   "cell_type": "code",
   "execution_count": 20,
   "metadata": {},
   "outputs": [
    {
     "data": {
      "text/plain": [
       "array([[1.06105087e-03, 6.20174234e-09, 4.46994158e-03, 6.53088498e-01,\n",
       "        3.33334839e-01, 2.33497790e-09, 8.04566239e-03],\n",
       "       [3.56559946e-03, 9.00424080e-03, 1.39586784e-01, 3.19427977e-05,\n",
       "        8.14856421e-01, 7.58584323e-07, 3.29542533e-02],\n",
       "       [1.37314353e-03, 2.65271301e-11, 4.87697459e-02, 9.39755639e-01,\n",
       "        4.65503076e-03, 6.42680992e-16, 5.44644120e-03],\n",
       "       [4.76972096e-07, 1.24255557e-02, 4.23261274e-01, 1.61253468e-08,\n",
       "        1.33127148e-01, 4.22167879e-01, 9.01764982e-03],\n",
       "       [1.66890638e-04, 3.29697679e-03, 7.31052754e-01, 4.01748219e-05,\n",
       "        2.49322924e-01, 2.85320654e-05, 1.60917471e-02],\n",
       "       [9.29383218e-01, 5.38085608e-04, 5.36907524e-04, 2.07911942e-08,\n",
       "        3.78339750e-06, 2.71481599e-42, 6.95379846e-02],\n",
       "       [3.70439943e-04, 2.86489271e-03, 7.64983697e-01, 1.82959070e-04,\n",
       "        2.17573023e-01, 6.57415844e-06, 1.40184139e-02],\n",
       "       [4.00124594e-04, 1.20861330e-03, 8.68243367e-01, 3.69253071e-04,\n",
       "        1.15191592e-01, 7.25153900e-07, 1.45863248e-02],\n",
       "       [7.17308280e-04, 6.37630071e-03, 9.33777838e-01, 1.77412311e-05,\n",
       "        4.06401900e-02, 3.85061256e-09, 1.84706184e-02],\n",
       "       [2.22970176e-03, 1.31219626e-17, 7.17760682e-02, 8.90130501e-01,\n",
       "        1.26601391e-07, 4.99911743e-43, 3.58636021e-02],\n",
       "       [9.58327831e-01, 4.43954074e-04, 1.12679937e-03, 2.32482162e-05,\n",
       "        3.34697887e-03, 2.14057552e-27, 3.67311884e-02],\n",
       "       [2.61056230e-02, 2.19981294e-03, 4.14781833e-01, 5.76209621e-04,\n",
       "        4.85300744e-01, 1.60213434e-10, 7.10357778e-02],\n",
       "       [9.47387066e-01, 1.78312236e-02, 8.70876398e-04, 6.28858839e-06,\n",
       "        4.07028046e-03, 1.86138599e-26, 2.98342650e-02],\n",
       "       [3.50249336e-01, 4.87395031e-01, 8.83073117e-02, 8.14334451e-06,\n",
       "        5.69054058e-02, 5.47458336e-13, 1.71347721e-02],\n",
       "       [9.70243887e-01, 1.68305478e-03, 2.48987915e-04, 2.11569767e-05,\n",
       "        5.88151498e-04, 5.49704156e-30, 2.72147621e-02],\n",
       "       [9.56297668e-01, 1.34206476e-04, 3.62987113e-04, 2.83501461e-06,\n",
       "        1.55008540e-05, 1.63317321e-38, 4.31868030e-02],\n",
       "       [5.73619944e-03, 4.18510094e-10, 8.99050416e-01, 8.91120718e-06,\n",
       "        2.33026874e-07, 2.56017186e-41, 9.52042401e-02],\n",
       "       [9.11087741e-03, 5.16029719e-06, 9.39191731e-01, 1.39745163e-03,\n",
       "        4.62092659e-03, 9.81167888e-22, 4.56738534e-02],\n",
       "       [5.89865810e-05, 4.71699475e-04, 7.44277639e-01, 6.49572477e-05,\n",
       "        2.37045095e-01, 1.68364843e-05, 1.80647861e-02],\n",
       "       [1.58620220e-02, 6.27289200e-01, 1.23506364e-01, 1.86431677e-06,\n",
       "        2.17562258e-01, 3.15757264e-07, 1.57779756e-02],\n",
       "       [1.81721420e-07, 1.77464317e-02, 1.27233679e-01, 1.57994941e-09,\n",
       "        1.19021717e-01, 7.27475047e-01, 8.52294207e-03],\n",
       "       [9.71073182e-01, 1.04669843e-02, 4.89713179e-04, 4.10265939e-05,\n",
       "        1.10699192e-03, 1.68801767e-26, 1.68221023e-02],\n",
       "       [9.77049722e-01, 6.98852161e-03, 3.01332566e-04, 1.17156185e-04,\n",
       "        3.86647507e-03, 1.42944283e-21, 1.16767928e-02],\n",
       "       [9.40775098e-01, 1.58443326e-02, 1.81301748e-04, 3.95557398e-05,\n",
       "        2.36379526e-02, 3.75983771e-22, 1.95217590e-02],\n",
       "       [9.53795280e-01, 8.91032566e-05, 4.35623515e-04, 9.88388184e-07,\n",
       "        6.40660769e-06, 8.68922127e-40, 4.56725986e-02],\n",
       "       [1.20539021e-04, 7.79724258e-03, 6.75728140e-01, 7.80110912e-06,\n",
       "        2.98874427e-01, 9.49556258e-05, 1.73768950e-02],\n",
       "       [3.87487921e-03, 1.88135784e-03, 2.38663939e-01, 1.18900353e-03,\n",
       "        7.30717968e-01, 5.08164816e-07, 2.36723434e-02],\n",
       "       [1.64102175e-03, 1.52173893e-15, 8.78769945e-02, 8.93517232e-01,\n",
       "        1.42088054e-05, 8.85325993e-32, 1.69505426e-02],\n",
       "       [1.40957009e-02, 4.60468625e-10, 8.58927697e-01, 7.76734671e-04,\n",
       "        1.42109573e-05, 6.16146469e-38, 1.26185656e-01],\n",
       "       [5.20645255e-08, 1.79919012e-02, 1.91399885e-01, 2.87845361e-10,\n",
       "        7.56000945e-02, 7.06394999e-01, 8.61306727e-03],\n",
       "       [8.39233135e-08, 2.94108167e-02, 1.65392542e-01, 2.44607617e-10,\n",
       "        8.33156090e-02, 7.12786717e-01, 9.09423083e-03],\n",
       "       [1.24451790e-05, 2.46235776e-02, 7.37257826e-01, 1.94237422e-07,\n",
       "        2.16900397e-01, 4.07048387e-03, 1.71350758e-02],\n",
       "       [4.05423879e-03, 9.43054103e-12, 1.38534969e-01, 8.52022690e-01,\n",
       "        1.22386992e-03, 4.26344394e-18, 4.16423242e-03],\n",
       "       [2.95399822e-02, 5.25186329e-03, 5.14890728e-01, 2.30126125e-04,\n",
       "        3.79611159e-01, 9.05369637e-11, 7.04761410e-02],\n",
       "       [1.31524307e-02, 3.10669017e-10, 9.02108899e-01, 2.57698949e-03,\n",
       "        6.79869328e-06, 1.70581857e-37, 8.21548817e-02],\n",
       "       [3.15477489e-04, 2.20679494e-02, 7.63153635e-01, 6.00149774e-06,\n",
       "        1.96553900e-01, 9.64706127e-06, 1.78933895e-02],\n",
       "       [2.50069822e-07, 2.14324844e-02, 1.84140720e-01, 2.66882451e-09,\n",
       "        7.74068720e-02, 7.09143024e-01, 7.87664707e-03],\n",
       "       [9.01919926e-04, 9.00268032e-03, 9.81739353e-02, 2.01234222e-05,\n",
       "        8.66174117e-01, 6.34768190e-05, 2.56637476e-02],\n",
       "       [7.02491042e-02, 7.95380647e-01, 5.05382285e-02, 2.35053044e-06,\n",
       "        7.64639410e-02, 4.48471212e-08, 7.36568402e-03],\n",
       "       [2.32630971e-02, 2.12802641e-07, 9.05593344e-01, 2.76196684e-04,\n",
       "        1.00447933e-04, 7.24935133e-32, 7.07667010e-02],\n",
       "       [9.56080791e-01, 1.38159583e-03, 4.74865614e-04, 1.18320396e-05,\n",
       "        1.18728476e-03, 6.48590938e-31, 4.08636308e-02],\n",
       "       [3.58861444e-03, 7.15748314e-12, 7.82967756e-02, 9.01587431e-01,\n",
       "        1.10054102e-02, 2.07179411e-15, 5.52176888e-03],\n",
       "       [8.21488807e-05, 6.08536489e-02, 7.47296451e-01, 1.04638379e-06,\n",
       "        1.76785494e-01, 8.24299211e-04, 1.41569110e-02],\n",
       "       [1.16224820e-07, 1.46702128e-02, 1.25011682e-01, 8.38425383e-10,\n",
       "        1.29445161e-01, 7.21655054e-01, 9.21777285e-03],\n",
       "       [1.89111024e-04, 4.11756737e-02, 2.25013172e-01, 1.43238413e-06,\n",
       "        7.03492082e-01, 4.94995371e-03, 2.51785758e-02],\n",
       "       [2.60446060e-05, 3.02090192e-02, 7.43112575e-01, 1.39718740e-07,\n",
       "        2.06105085e-01, 1.32680373e-04, 2.04144566e-02],\n",
       "       [9.75834692e-01, 2.98580264e-03, 3.95593941e-04, 1.20808890e-04,\n",
       "        1.38556307e-03, 1.04861236e-26, 1.92775393e-02],\n",
       "       [5.05433641e-03, 1.75419141e-10, 4.17736012e-02, 9.41009111e-01,\n",
       "        8.27393539e-03, 3.18796828e-14, 3.88901598e-03],\n",
       "       [2.39368656e-05, 2.38980834e-22, 4.25580785e-03, 9.56617544e-01,\n",
       "        7.26259124e-11, 9.67232256e-54, 3.91027113e-02],\n",
       "       [9.49436558e-01, 2.35746547e-02, 3.01621666e-04, 4.80294201e-05,\n",
       "        1.07106895e-02, 3.67851464e-22, 1.59284472e-02],\n",
       "       [4.38020409e-05, 1.50246261e-02, 7.69371839e-01, 2.85188028e-06,\n",
       "        1.99399132e-01, 1.46944721e-03, 1.46883018e-02],\n",
       "       [1.44542579e-01, 7.00977432e-01, 6.64641834e-02, 3.82482832e-06,\n",
       "        7.73045319e-02, 3.02875820e-10, 1.07074478e-02],\n",
       "       [3.94264245e-03, 2.46743817e-10, 9.14696232e-01, 5.34794799e-04,\n",
       "        2.44209393e-06, 2.54632551e-37, 8.08238881e-02]])"
      ]
     },
     "execution_count": 20,
     "metadata": {},
     "output_type": "execute_result"
    }
   ],
   "source": [
    "logmodel.predict_proba(X_test)"
   ]
  },
  {
   "cell_type": "code",
   "execution_count": 21,
   "metadata": {
    "scrolled": true
   },
   "outputs": [
    {
     "name": "stdout",
     "output_type": "stream",
     "text": [
      "              precision    recall  f1-score   support\n",
      "\n",
      "       Bream       1.00      1.00      1.00        12\n",
      "      Parkki       1.00      1.00      1.00         4\n",
      "       Perch       0.89      1.00      0.94        17\n",
      "        Pike       1.00      1.00      1.00         8\n",
      "       Roach       0.80      1.00      0.89         4\n",
      "       Smelt       1.00      0.83      0.91         6\n",
      "   Whitefish       0.00      0.00      0.00         2\n",
      "\n",
      "    accuracy                           0.94        53\n",
      "   macro avg       0.81      0.83      0.82        53\n",
      "weighted avg       0.91      0.94      0.93        53\n",
      "\n"
     ]
    },
    {
     "name": "stderr",
     "output_type": "stream",
     "text": [
      "C:\\Users\\BSK\\anaconda3\\lib\\site-packages\\sklearn\\metrics\\_classification.py:1272: UndefinedMetricWarning: Precision and F-score are ill-defined and being set to 0.0 in labels with no predicted samples. Use `zero_division` parameter to control this behavior.\n",
      "  _warn_prf(average, modifier, msg_start, len(result))\n"
     ]
    }
   ],
   "source": [
    "print(classification_report(y_test,logpredictions))"
   ]
  },
  {
   "cell_type": "markdown",
   "metadata": {},
   "source": [
    "we get an accuracy of 94 percent"
   ]
  },
  {
   "cell_type": "code",
   "execution_count": null,
   "metadata": {},
   "outputs": [],
   "source": []
  }
 ],
 "metadata": {
  "kernelspec": {
   "display_name": "Python 3",
   "language": "python",
   "name": "python3"
  },
  "language_info": {
   "codemirror_mode": {
    "name": "ipython",
    "version": 3
   },
   "file_extension": ".py",
   "mimetype": "text/x-python",
   "name": "python",
   "nbconvert_exporter": "python",
   "pygments_lexer": "ipython3",
   "version": "3.7.6"
  }
 },
 "nbformat": 4,
 "nbformat_minor": 4
}
